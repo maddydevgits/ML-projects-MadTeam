{
 "cells": [
  {
   "cell_type": "code",
   "execution_count": 2,
   "id": "4d89c81d",
   "metadata": {},
   "outputs": [],
   "source": [
    "import numpy as np\n",
    "import pandas as pd\n",
    "import matplotlib.pyplot as plt\n",
    "import seaborn as sb\n",
    " \n",
    "import tensorflow as tf\n",
    "from tensorflow import keras\n",
    "from keras import layers\n",
    " \n",
    "import warnings\n",
    "warnings.filterwarnings('ignore')"
   ]
  },
  {
   "cell_type": "code",
   "execution_count": 4,
   "id": "464b8ccd",
   "metadata": {},
   "outputs": [
    {
     "data": {
      "text/html": [
       "<div>\n",
       "<style scoped>\n",
       "    .dataframe tbody tr th:only-of-type {\n",
       "        vertical-align: middle;\n",
       "    }\n",
       "\n",
       "    .dataframe tbody tr th {\n",
       "        vertical-align: top;\n",
       "    }\n",
       "\n",
       "    .dataframe thead th {\n",
       "        text-align: right;\n",
       "    }\n",
       "</style>\n",
       "<table border=\"1\" class=\"dataframe\">\n",
       "  <thead>\n",
       "    <tr style=\"text-align: right;\">\n",
       "      <th></th>\n",
       "      <th>mpg</th>\n",
       "      <th>cylinders</th>\n",
       "      <th>displacement</th>\n",
       "      <th>horsepower</th>\n",
       "      <th>weight</th>\n",
       "      <th>acceleration</th>\n",
       "      <th>model year</th>\n",
       "      <th>origin</th>\n",
       "      <th>car name</th>\n",
       "    </tr>\n",
       "  </thead>\n",
       "  <tbody>\n",
       "    <tr>\n",
       "      <th>0</th>\n",
       "      <td>18.0</td>\n",
       "      <td>8</td>\n",
       "      <td>307.0</td>\n",
       "      <td>130</td>\n",
       "      <td>3504</td>\n",
       "      <td>12.0</td>\n",
       "      <td>70</td>\n",
       "      <td>1</td>\n",
       "      <td>chevrolet chevelle malibu</td>\n",
       "    </tr>\n",
       "    <tr>\n",
       "      <th>1</th>\n",
       "      <td>15.0</td>\n",
       "      <td>8</td>\n",
       "      <td>350.0</td>\n",
       "      <td>165</td>\n",
       "      <td>3693</td>\n",
       "      <td>11.5</td>\n",
       "      <td>70</td>\n",
       "      <td>1</td>\n",
       "      <td>buick skylark 320</td>\n",
       "    </tr>\n",
       "    <tr>\n",
       "      <th>2</th>\n",
       "      <td>18.0</td>\n",
       "      <td>8</td>\n",
       "      <td>318.0</td>\n",
       "      <td>150</td>\n",
       "      <td>3436</td>\n",
       "      <td>11.0</td>\n",
       "      <td>70</td>\n",
       "      <td>1</td>\n",
       "      <td>plymouth satellite</td>\n",
       "    </tr>\n",
       "    <tr>\n",
       "      <th>3</th>\n",
       "      <td>16.0</td>\n",
       "      <td>8</td>\n",
       "      <td>304.0</td>\n",
       "      <td>150</td>\n",
       "      <td>3433</td>\n",
       "      <td>12.0</td>\n",
       "      <td>70</td>\n",
       "      <td>1</td>\n",
       "      <td>amc rebel sst</td>\n",
       "    </tr>\n",
       "    <tr>\n",
       "      <th>4</th>\n",
       "      <td>17.0</td>\n",
       "      <td>8</td>\n",
       "      <td>302.0</td>\n",
       "      <td>140</td>\n",
       "      <td>3449</td>\n",
       "      <td>10.5</td>\n",
       "      <td>70</td>\n",
       "      <td>1</td>\n",
       "      <td>ford torino</td>\n",
       "    </tr>\n",
       "  </tbody>\n",
       "</table>\n",
       "</div>"
      ],
      "text/plain": [
       "    mpg  cylinders  displacement horsepower  weight  acceleration  model year  \\\n",
       "0  18.0          8         307.0        130    3504          12.0          70   \n",
       "1  15.0          8         350.0        165    3693          11.5          70   \n",
       "2  18.0          8         318.0        150    3436          11.0          70   \n",
       "3  16.0          8         304.0        150    3433          12.0          70   \n",
       "4  17.0          8         302.0        140    3449          10.5          70   \n",
       "\n",
       "   origin                   car name  \n",
       "0       1  chevrolet chevelle malibu  \n",
       "1       1          buick skylark 320  \n",
       "2       1         plymouth satellite  \n",
       "3       1              amc rebel sst  \n",
       "4       1                ford torino  "
      ]
     },
     "execution_count": 4,
     "metadata": {},
     "output_type": "execute_result"
    }
   ],
   "source": [
    "df = pd.read_csv(\"D:/giri/downloads/auto-mpg.csv\")\n",
    "df.head()\n"
   ]
  },
  {
   "cell_type": "code",
   "execution_count": 5,
   "id": "8fb27b0c",
   "metadata": {},
   "outputs": [
    {
     "data": {
      "text/plain": [
       "(398, 9)"
      ]
     },
     "execution_count": 5,
     "metadata": {},
     "output_type": "execute_result"
    }
   ],
   "source": [
    "df.shape\n"
   ]
  },
  {
   "cell_type": "code",
   "execution_count": 6,
   "id": "b189073c",
   "metadata": {},
   "outputs": [
    {
     "name": "stdout",
     "output_type": "stream",
     "text": [
      "<class 'pandas.core.frame.DataFrame'>\n",
      "RangeIndex: 398 entries, 0 to 397\n",
      "Data columns (total 9 columns):\n",
      " #   Column        Non-Null Count  Dtype  \n",
      "---  ------        --------------  -----  \n",
      " 0   mpg           398 non-null    float64\n",
      " 1   cylinders     398 non-null    int64  \n",
      " 2   displacement  398 non-null    float64\n",
      " 3   horsepower    398 non-null    object \n",
      " 4   weight        398 non-null    int64  \n",
      " 5   acceleration  398 non-null    float64\n",
      " 6   model year    398 non-null    int64  \n",
      " 7   origin        398 non-null    int64  \n",
      " 8   car name      398 non-null    object \n",
      "dtypes: float64(3), int64(4), object(2)\n",
      "memory usage: 28.1+ KB\n"
     ]
    }
   ],
   "source": [
    "df.info()\n"
   ]
  },
  {
   "cell_type": "code",
   "execution_count": 7,
   "id": "84540b9c",
   "metadata": {},
   "outputs": [
    {
     "data": {
      "text/html": [
       "<div>\n",
       "<style scoped>\n",
       "    .dataframe tbody tr th:only-of-type {\n",
       "        vertical-align: middle;\n",
       "    }\n",
       "\n",
       "    .dataframe tbody tr th {\n",
       "        vertical-align: top;\n",
       "    }\n",
       "\n",
       "    .dataframe thead th {\n",
       "        text-align: right;\n",
       "    }\n",
       "</style>\n",
       "<table border=\"1\" class=\"dataframe\">\n",
       "  <thead>\n",
       "    <tr style=\"text-align: right;\">\n",
       "      <th></th>\n",
       "      <th>mpg</th>\n",
       "      <th>cylinders</th>\n",
       "      <th>displacement</th>\n",
       "      <th>weight</th>\n",
       "      <th>acceleration</th>\n",
       "      <th>model year</th>\n",
       "      <th>origin</th>\n",
       "    </tr>\n",
       "  </thead>\n",
       "  <tbody>\n",
       "    <tr>\n",
       "      <th>count</th>\n",
       "      <td>398.000000</td>\n",
       "      <td>398.000000</td>\n",
       "      <td>398.000000</td>\n",
       "      <td>398.000000</td>\n",
       "      <td>398.000000</td>\n",
       "      <td>398.000000</td>\n",
       "      <td>398.000000</td>\n",
       "    </tr>\n",
       "    <tr>\n",
       "      <th>mean</th>\n",
       "      <td>23.514573</td>\n",
       "      <td>5.454774</td>\n",
       "      <td>193.425879</td>\n",
       "      <td>2970.424623</td>\n",
       "      <td>15.568090</td>\n",
       "      <td>76.010050</td>\n",
       "      <td>1.572864</td>\n",
       "    </tr>\n",
       "    <tr>\n",
       "      <th>std</th>\n",
       "      <td>7.815984</td>\n",
       "      <td>1.701004</td>\n",
       "      <td>104.269838</td>\n",
       "      <td>846.841774</td>\n",
       "      <td>2.757689</td>\n",
       "      <td>3.697627</td>\n",
       "      <td>0.802055</td>\n",
       "    </tr>\n",
       "    <tr>\n",
       "      <th>min</th>\n",
       "      <td>9.000000</td>\n",
       "      <td>3.000000</td>\n",
       "      <td>68.000000</td>\n",
       "      <td>1613.000000</td>\n",
       "      <td>8.000000</td>\n",
       "      <td>70.000000</td>\n",
       "      <td>1.000000</td>\n",
       "    </tr>\n",
       "    <tr>\n",
       "      <th>25%</th>\n",
       "      <td>17.500000</td>\n",
       "      <td>4.000000</td>\n",
       "      <td>104.250000</td>\n",
       "      <td>2223.750000</td>\n",
       "      <td>13.825000</td>\n",
       "      <td>73.000000</td>\n",
       "      <td>1.000000</td>\n",
       "    </tr>\n",
       "    <tr>\n",
       "      <th>50%</th>\n",
       "      <td>23.000000</td>\n",
       "      <td>4.000000</td>\n",
       "      <td>148.500000</td>\n",
       "      <td>2803.500000</td>\n",
       "      <td>15.500000</td>\n",
       "      <td>76.000000</td>\n",
       "      <td>1.000000</td>\n",
       "    </tr>\n",
       "    <tr>\n",
       "      <th>75%</th>\n",
       "      <td>29.000000</td>\n",
       "      <td>8.000000</td>\n",
       "      <td>262.000000</td>\n",
       "      <td>3608.000000</td>\n",
       "      <td>17.175000</td>\n",
       "      <td>79.000000</td>\n",
       "      <td>2.000000</td>\n",
       "    </tr>\n",
       "    <tr>\n",
       "      <th>max</th>\n",
       "      <td>46.600000</td>\n",
       "      <td>8.000000</td>\n",
       "      <td>455.000000</td>\n",
       "      <td>5140.000000</td>\n",
       "      <td>24.800000</td>\n",
       "      <td>82.000000</td>\n",
       "      <td>3.000000</td>\n",
       "    </tr>\n",
       "  </tbody>\n",
       "</table>\n",
       "</div>"
      ],
      "text/plain": [
       "              mpg   cylinders  displacement       weight  acceleration  \\\n",
       "count  398.000000  398.000000    398.000000   398.000000    398.000000   \n",
       "mean    23.514573    5.454774    193.425879  2970.424623     15.568090   \n",
       "std      7.815984    1.701004    104.269838   846.841774      2.757689   \n",
       "min      9.000000    3.000000     68.000000  1613.000000      8.000000   \n",
       "25%     17.500000    4.000000    104.250000  2223.750000     13.825000   \n",
       "50%     23.000000    4.000000    148.500000  2803.500000     15.500000   \n",
       "75%     29.000000    8.000000    262.000000  3608.000000     17.175000   \n",
       "max     46.600000    8.000000    455.000000  5140.000000     24.800000   \n",
       "\n",
       "       model year      origin  \n",
       "count  398.000000  398.000000  \n",
       "mean    76.010050    1.572864  \n",
       "std      3.697627    0.802055  \n",
       "min     70.000000    1.000000  \n",
       "25%     73.000000    1.000000  \n",
       "50%     76.000000    1.000000  \n",
       "75%     79.000000    2.000000  \n",
       "max     82.000000    3.000000  "
      ]
     },
     "execution_count": 7,
     "metadata": {},
     "output_type": "execute_result"
    }
   ],
   "source": [
    "df.describe()\n"
   ]
  },
  {
   "cell_type": "code",
   "execution_count": 8,
   "id": "2076f648",
   "metadata": {},
   "outputs": [
    {
     "data": {
      "text/plain": [
       "array(['130', '165', '150', '140', '198', '220', '215', '225', '190',\n",
       "       '170', '160', '95', '97', '85', '88', '46', '87', '90', '113',\n",
       "       '200', '210', '193', '?', '100', '105', '175', '153', '180', '110',\n",
       "       '72', '86', '70', '76', '65', '69', '60', '80', '54', '208', '155',\n",
       "       '112', '92', '145', '137', '158', '167', '94', '107', '230', '49',\n",
       "       '75', '91', '122', '67', '83', '78', '52', '61', '93', '148',\n",
       "       '129', '96', '71', '98', '115', '53', '81', '79', '120', '152',\n",
       "       '102', '108', '68', '58', '149', '89', '63', '48', '66', '139',\n",
       "       '103', '125', '133', '138', '135', '142', '77', '62', '132', '84',\n",
       "       '64', '74', '116', '82'], dtype=object)"
      ]
     },
     "execution_count": 8,
     "metadata": {},
     "output_type": "execute_result"
    }
   ],
   "source": [
    "df['horsepower'].unique()\n"
   ]
  },
  {
   "cell_type": "code",
   "execution_count": 9,
   "id": "ad440a21",
   "metadata": {},
   "outputs": [
    {
     "name": "stdout",
     "output_type": "stream",
     "text": [
      "(398, 9)\n",
      "(392, 9)\n"
     ]
    }
   ],
   "source": [
    "print(df.shape)\n",
    "df = df[df['horsepower'] != '?']\n",
    "print(df.shape)\n"
   ]
  },
  {
   "cell_type": "code",
   "execution_count": 10,
   "id": "a1c814b3",
   "metadata": {},
   "outputs": [
    {
     "data": {
      "text/plain": [
       "mpg             0\n",
       "cylinders       0\n",
       "displacement    0\n",
       "horsepower      0\n",
       "weight          0\n",
       "acceleration    0\n",
       "model year      0\n",
       "origin          0\n",
       "car name        0\n",
       "dtype: int64"
      ]
     },
     "execution_count": 10,
     "metadata": {},
     "output_type": "execute_result"
    }
   ],
   "source": [
    "df['horsepower'] = df['horsepower'].astype(int)\n",
    "df.isnull().sum()\n"
   ]
  },
  {
   "cell_type": "code",
   "execution_count": 11,
   "id": "b1f99036",
   "metadata": {},
   "outputs": [
    {
     "data": {
      "text/plain": [
       "mpg             127\n",
       "cylinders         5\n",
       "displacement     81\n",
       "horsepower       93\n",
       "weight          346\n",
       "acceleration     95\n",
       "model year       13\n",
       "origin            3\n",
       "car name        301\n",
       "dtype: int64"
      ]
     },
     "execution_count": 11,
     "metadata": {},
     "output_type": "execute_result"
    }
   ],
   "source": [
    "df.nunique()\n"
   ]
  },
  {
   "cell_type": "code",
   "execution_count": 12,
   "id": "3daef35c",
   "metadata": {},
   "outputs": [
    {
     "data": {
      "image/png": "[encoded data removed]",
      "text/plain": [
       "<Figure size 1500x500 with 2 Axes>"
      ]
     },
     "metadata": {},
     "output_type": "display_data"
    }
   ],
   "source": [
    "plt.subplots(figsize=(15, 5))\n",
    "for i, col in enumerate(['cylinders', 'origin']):\n",
    "\tplt.subplot(1, 2, i+1)\n",
    "\tx = df.groupby(col).mean()['mpg']\n",
    "\tx.plot.bar()\n",
    "\tplt.xticks(rotation=0)\n",
    "plt.tight_layout()\n",
    "plt.show()\n"
   ]
  },
  {
   "cell_type": "code",
   "execution_count": 13,
   "id": "abbc3a93",
   "metadata": {},
   "outputs": [
    {
     "data": {
      "image/png": "[encoded data removed]",
      "text/plain": [
       "<Figure size 800x800 with 1 Axes>"
      ]
     },
     "metadata": {},
     "output_type": "display_data"
    }
   ],
   "source": [
    "plt.figure(figsize=(8, 8))\n",
    "sb.heatmap(df.corr() > 0.9,\n",
    "\t\tannot=True,\n",
    "\t\tcbar=False)\n",
    "plt.show()\n"
   ]
  },
  {
   "cell_type": "code",
   "execution_count": 14,
   "id": "d1a67a9e",
   "metadata": {},
   "outputs": [],
   "source": [
    "df.drop('displacement',\n",
    "\t\taxis=1,\n",
    "\t\tinplace=True)\n"
   ]
  },
  {
   "cell_type": "code",
   "execution_count": 15,
   "id": "a61fe968",
   "metadata": {},
   "outputs": [
    {
     "data": {
      "text/plain": [
       "((313, 6), (79, 6))"
      ]
     },
     "execution_count": 15,
     "metadata": {},
     "output_type": "execute_result"
    }
   ],
   "source": [
    "from sklearn.model_selection import train_test_split\n",
    "features = df.drop(['mpg', 'car name'], axis=1)\n",
    "target = df['mpg'].values\n",
    "\n",
    "X_train, X_val, \\\n",
    "\tY_train, Y_val = train_test_split(features, target,\n",
    "\t\t\t\t\t\t\t\t\ttest_size=0.2,\n",
    "\t\t\t\t\t\t\t\t\trandom_state=22)\n",
    "X_train.shape, X_val.shape\n"
   ]
  },
  {
   "cell_type": "code",
   "execution_count": 16,
   "id": "45170d31",
   "metadata": {},
   "outputs": [],
   "source": [
    "AUTO = tf.data.experimental.AUTOTUNE\n",
    "\n",
    "train_ds = (\n",
    "\ttf.data.Dataset\n",
    "\t.from_tensor_slices((X_train, Y_train))\n",
    "\t.batch(32)\n",
    "\t.prefetch(AUTO)\n",
    ")\n",
    "\n",
    "val_ds = (\n",
    "\ttf.data.Dataset\n",
    "\t.from_tensor_slices((X_val, Y_val))\n",
    "\t.batch(32)\n",
    "\t.prefetch(AUTO)\n",
    ")\n"
   ]
  },
  {
   "cell_type": "code",
   "execution_count": 17,
   "id": "6775c18c",
   "metadata": {},
   "outputs": [],
   "source": [
    "model = keras.Sequential([\n",
    "\tlayers.Dense(256, activation='relu', input_shape=[6]),\n",
    "\tlayers.BatchNormalization(),\n",
    "\tlayers.Dense(256, activation='relu'),\n",
    "\tlayers.Dropout(0.3),\n",
    "\tlayers.BatchNormalization(),\n",
    "\tlayers.Dense(1, activation='relu')\n",
    "])\n"
   ]
  },
  {
   "cell_type": "code",
   "execution_count": 18,
   "id": "24aac1bd",
   "metadata": {},
   "outputs": [],
   "source": [
    "model.compile(\n",
    "\tloss='mae',\n",
    "\toptimizer='adam',\n",
    "\tmetrics=['mape']\n",
    ")\n"
   ]
  },
  {
   "cell_type": "code",
   "execution_count": 19,
   "id": "19c71008",
   "metadata": {},
   "outputs": [
    {
     "name": "stdout",
     "output_type": "stream",
     "text": [
      "Model: \"sequential\"\n",
      "_________________________________________________________________\n",
      " Layer (type)                Output Shape              Param #   \n",
      "=================================================================\n",
      " dense (Dense)               (None, 256)               1792      \n",
      "                                                                 \n",
      " batch_normalization (BatchN  (None, 256)              1024      \n",
      " ormalization)                                                   \n",
      "                                                                 \n",
      " dense_1 (Dense)             (None, 256)               65792     \n",
      "                                                                 \n",
      " dropout (Dropout)           (None, 256)               0         \n",
      "                                                                 \n",
      " batch_normalization_1 (Batc  (None, 256)              1024      \n",
      " hNormalization)                                                 \n",
      "                                                                 \n",
      " dense_2 (Dense)             (None, 1)                 257       \n",
      "                                                                 \n",
      "=================================================================\n",
      "Total params: 69,889\n",
      "Trainable params: 68,865\n",
      "Non-trainable params: 1,024\n",
      "_________________________________________________________________\n"
     ]
    }
   ],
   "source": [
    "model.summary()\n"
   ]
  },
  {
   "cell_type": "code",
   "execution_count": 20,
   "id": "e663cc16",
   "metadata": {},
   "outputs": [
    {
     "name": "stdout",
     "output_type": "stream",
     "text": [
      "Epoch 1/50\n",
      "10/10 [==============================] - 1s 24ms/step - loss: 21.5909 - mape: 86.2594 - val_loss: 53.4357 - val_mape: 319.6922\n",
      "Epoch 2/50\n",
      "10/10 [==============================] - 0s 4ms/step - loss: 20.1911 - mape: 78.0595 - val_loss: 35.2877 - val_mape: 216.6288\n",
      "Epoch 3/50\n",
      "10/10 [==============================] - 0s 4ms/step - loss: 19.5664 - mape: 74.8612 - val_loss: 17.2802 - val_mape: 100.2270\n",
      "Epoch 4/50\n",
      "10/10 [==============================] - 0s 4ms/step - loss: 19.0683 - mape: 72.6752 - val_loss: 13.4781 - val_mape: 69.9172\n",
      "Epoch 5/50\n",
      "10/10 [==============================] - 0s 4ms/step - loss: 18.5526 - mape: 70.1382 - val_loss: 11.3323 - val_mape: 49.4467\n",
      "Epoch 6/50\n",
      "10/10 [==============================] - 0s 4ms/step - loss: 17.9482 - mape: 67.2089 - val_loss: 10.9138 - val_mape: 44.5872\n",
      "Epoch 7/50\n",
      "10/10 [==============================] - 0s 4ms/step - loss: 17.4136 - mape: 64.7166 - val_loss: 11.0405 - val_mape: 41.9617\n",
      "Epoch 8/50\n",
      "10/10 [==============================] - 0s 5ms/step - loss: 16.7801 - mape: 61.8124 - val_loss: 10.9609 - val_mape: 41.1046\n",
      "Epoch 9/50\n",
      "10/10 [==============================] - 0s 4ms/step - loss: 16.1812 - mape: 59.1676 - val_loss: 10.6457 - val_mape: 39.6804\n",
      "Epoch 10/50\n",
      "10/10 [==============================] - 0s 5ms/step - loss: 15.6877 - mape: 57.2906 - val_loss: 9.9930 - val_mape: 37.1104\n",
      "Epoch 11/50\n",
      "10/10 [==============================] - 0s 5ms/step - loss: 15.1938 - mape: 55.3508 - val_loss: 9.1943 - val_mape: 33.8928\n",
      "Epoch 12/50\n",
      "10/10 [==============================] - 0s 5ms/step - loss: 14.2672 - mape: 51.1109 - val_loss: 8.6724 - val_mape: 31.8033\n",
      "Epoch 13/50\n",
      "10/10 [==============================] - 0s 5ms/step - loss: 13.6982 - mape: 48.9684 - val_loss: 8.1359 - val_mape: 29.2825\n",
      "Epoch 14/50\n",
      "10/10 [==============================] - 0s 6ms/step - loss: 13.1677 - mape: 46.9978 - val_loss: 7.4951 - val_mape: 26.6277\n",
      "Epoch 15/50\n",
      "10/10 [==============================] - 0s 5ms/step - loss: 12.5464 - mape: 44.6983 - val_loss: 7.1112 - val_mape: 25.9150\n",
      "Epoch 16/50\n",
      "10/10 [==============================] - 0s 5ms/step - loss: 11.8460 - mape: 43.2257 - val_loss: 7.3754 - val_mape: 26.3010\n",
      "Epoch 17/50\n",
      "10/10 [==============================] - 0s 6ms/step - loss: 11.2351 - mape: 41.4324 - val_loss: 6.0582 - val_mape: 21.5156\n",
      "Epoch 18/50\n",
      "10/10 [==============================] - 0s 7ms/step - loss: 10.7736 - mape: 40.2316 - val_loss: 7.4776 - val_mape: 26.9027\n",
      "Epoch 19/50\n",
      "10/10 [==============================] - 0s 5ms/step - loss: 10.1593 - mape: 38.7968 - val_loss: 12.5940 - val_mape: 48.6433\n",
      "Epoch 20/50\n",
      "10/10 [==============================] - 0s 5ms/step - loss: 9.1481 - mape: 35.8604 - val_loss: 19.4821 - val_mape: 83.7534\n",
      "Epoch 21/50\n",
      "10/10 [==============================] - 0s 7ms/step - loss: 7.8008 - mape: 33.1131 - val_loss: 22.4190 - val_mape: 100.0000\n",
      "Epoch 22/50\n",
      "10/10 [==============================] - 0s 7ms/step - loss: 6.2883 - mape: 29.5444 - val_loss: 22.3684 - val_mape: 99.8850\n",
      "Epoch 23/50\n",
      "10/10 [==============================] - 0s 6ms/step - loss: 5.1677 - mape: 26.1964 - val_loss: 22.4190 - val_mape: 100.0000\n",
      "Epoch 24/50\n",
      "10/10 [==============================] - 0s 6ms/step - loss: 4.8896 - mape: 24.9005 - val_loss: 22.3334 - val_mape: 99.8055\n",
      "Epoch 25/50\n",
      "10/10 [==============================] - 0s 5ms/step - loss: 4.6662 - mape: 23.5675 - val_loss: 21.3332 - val_mape: 97.0003\n",
      "Epoch 26/50\n",
      "10/10 [==============================] - 0s 5ms/step - loss: 4.5567 - mape: 23.6481 - val_loss: 20.4887 - val_mape: 94.4885\n",
      "Epoch 27/50\n",
      "10/10 [==============================] - 0s 5ms/step - loss: 4.5694 - mape: 23.4278 - val_loss: 18.8278 - val_mape: 89.3021\n",
      "Epoch 28/50\n",
      "10/10 [==============================] - 0s 4ms/step - loss: 4.3044 - mape: 22.2786 - val_loss: 14.3773 - val_mape: 72.4066\n",
      "Epoch 29/50\n",
      "10/10 [==============================] - 0s 10ms/step - loss: 4.4059 - mape: 22.4809 - val_loss: 11.4965 - val_mape: 59.7885\n",
      "Epoch 30/50\n",
      "10/10 [==============================] - 0s 5ms/step - loss: 4.3956 - mape: 22.9042 - val_loss: 18.5558 - val_mape: 88.5222\n",
      "Epoch 31/50\n",
      "10/10 [==============================] - 0s 4ms/step - loss: 4.3279 - mape: 22.2703 - val_loss: 13.2735 - val_mape: 69.1846\n",
      "Epoch 32/50\n",
      "10/10 [==============================] - 0s 7ms/step - loss: 4.3152 - mape: 22.4466 - val_loss: 11.5241 - val_mape: 61.9173\n",
      "Epoch 33/50\n",
      "10/10 [==============================] - 0s 7ms/step - loss: 4.2004 - mape: 21.7892 - val_loss: 8.5011 - val_mape: 47.6670\n",
      "Epoch 34/50\n",
      "10/10 [==============================] - 0s 5ms/step - loss: 4.2211 - mape: 22.1652 - val_loss: 6.9479 - val_mape: 39.9853\n",
      "Epoch 35/50\n",
      "10/10 [==============================] - 0s 4ms/step - loss: 4.0754 - mape: 21.1699 - val_loss: 6.2548 - val_mape: 36.4333\n",
      "Epoch 36/50\n",
      "10/10 [==============================] - 0s 4ms/step - loss: 4.0149 - mape: 21.0036 - val_loss: 6.1877 - val_mape: 36.1789\n",
      "Epoch 37/50\n",
      "10/10 [==============================] - 0s 5ms/step - loss: 4.0365 - mape: 20.8586 - val_loss: 6.1013 - val_mape: 33.8277\n",
      "Epoch 38/50\n",
      "10/10 [==============================] - 0s 5ms/step - loss: 4.0638 - mape: 20.2140 - val_loss: 6.4066 - val_mape: 35.2063\n",
      "Epoch 39/50\n",
      "10/10 [==============================] - 0s 3ms/step - loss: 3.9805 - mape: 20.0786 - val_loss: 6.5690 - val_mape: 35.8727\n",
      "Epoch 40/50\n",
      "10/10 [==============================] - 0s 4ms/step - loss: 3.9454 - mape: 20.1401 - val_loss: 7.0525 - val_mape: 37.7341\n",
      "Epoch 41/50\n",
      "10/10 [==============================] - 0s 5ms/step - loss: 3.8761 - mape: 19.8752 - val_loss: 6.8367 - val_mape: 36.8799\n",
      "Epoch 42/50\n",
      "10/10 [==============================] - 0s 6ms/step - loss: 3.8767 - mape: 19.3917 - val_loss: 7.8709 - val_mape: 42.2520\n",
      "Epoch 43/50\n",
      "10/10 [==============================] - 0s 4ms/step - loss: 3.5104 - mape: 16.9981 - val_loss: 7.2418 - val_mape: 37.8858\n",
      "Epoch 44/50\n",
      "10/10 [==============================] - 0s 6ms/step - loss: 3.5062 - mape: 16.8496 - val_loss: 5.7469 - val_mape: 30.7928\n",
      "Epoch 45/50\n",
      "10/10 [==============================] - 0s 6ms/step - loss: 3.1513 - mape: 14.6496 - val_loss: 4.7923 - val_mape: 27.0789\n",
      "Epoch 46/50\n",
      "10/10 [==============================] - 0s 7ms/step - loss: 3.2240 - mape: 14.8343 - val_loss: 4.3530 - val_mape: 24.0987\n",
      "Epoch 47/50\n",
      "10/10 [==============================] - 0s 7ms/step - loss: 2.7762 - mape: 12.7006 - val_loss: 4.7908 - val_mape: 26.3583\n",
      "Epoch 48/50\n",
      "10/10 [==============================] - 0s 8ms/step - loss: 2.9272 - mape: 13.5537 - val_loss: 4.4678 - val_mape: 24.9880\n",
      "Epoch 49/50\n",
      "10/10 [==============================] - 0s 7ms/step - loss: 2.8863 - mape: 12.7171 - val_loss: 4.4692 - val_mape: 23.7282\n",
      "Epoch 50/50\n",
      "10/10 [==============================] - 0s 7ms/step - loss: 3.0003 - mape: 13.4579 - val_loss: 4.3318 - val_mape: 22.9870\n"
     ]
    }
   ],
   "source": [
    "history = model.fit(train_ds,\n",
    "\t\t\t\t\tepochs=50,\n",
    "\t\t\t\t\tvalidation_data=val_ds)\n"
   ]
  },
  {
   "cell_type": "code",
   "execution_count": 21,
   "id": "8d4954d5",
   "metadata": {},
   "outputs": [
    {
     "data": {
      "text/html": [
       "<div>\n",
       "<style scoped>\n",
       "    .dataframe tbody tr th:only-of-type {\n",
       "        vertical-align: middle;\n",
       "    }\n",
       "\n",
       "    .dataframe tbody tr th {\n",
       "        vertical-align: top;\n",
       "    }\n",
       "\n",
       "    .dataframe thead th {\n",
       "        text-align: right;\n",
       "    }\n",
       "</style>\n",
       "<table border=\"1\" class=\"dataframe\">\n",
       "  <thead>\n",
       "    <tr style=\"text-align: right;\">\n",
       "      <th></th>\n",
       "      <th>loss</th>\n",
       "      <th>mape</th>\n",
       "      <th>val_loss</th>\n",
       "      <th>val_mape</th>\n",
       "    </tr>\n",
       "  </thead>\n",
       "  <tbody>\n",
       "    <tr>\n",
       "      <th>0</th>\n",
       "      <td>21.590858</td>\n",
       "      <td>86.259407</td>\n",
       "      <td>53.435719</td>\n",
       "      <td>319.692200</td>\n",
       "    </tr>\n",
       "    <tr>\n",
       "      <th>1</th>\n",
       "      <td>20.191145</td>\n",
       "      <td>78.059509</td>\n",
       "      <td>35.287697</td>\n",
       "      <td>216.628815</td>\n",
       "    </tr>\n",
       "    <tr>\n",
       "      <th>2</th>\n",
       "      <td>19.566366</td>\n",
       "      <td>74.861176</td>\n",
       "      <td>17.280199</td>\n",
       "      <td>100.227005</td>\n",
       "    </tr>\n",
       "    <tr>\n",
       "      <th>3</th>\n",
       "      <td>19.068304</td>\n",
       "      <td>72.675171</td>\n",
       "      <td>13.478090</td>\n",
       "      <td>69.917244</td>\n",
       "    </tr>\n",
       "    <tr>\n",
       "      <th>4</th>\n",
       "      <td>18.552628</td>\n",
       "      <td>70.138176</td>\n",
       "      <td>11.332260</td>\n",
       "      <td>49.446686</td>\n",
       "    </tr>\n",
       "  </tbody>\n",
       "</table>\n",
       "</div>"
      ],
      "text/plain": [
       "        loss       mape   val_loss    val_mape\n",
       "0  21.590858  86.259407  53.435719  319.692200\n",
       "1  20.191145  78.059509  35.287697  216.628815\n",
       "2  19.566366  74.861176  17.280199  100.227005\n",
       "3  19.068304  72.675171  13.478090   69.917244\n",
       "4  18.552628  70.138176  11.332260   49.446686"
      ]
     },
     "execution_count": 21,
     "metadata": {},
     "output_type": "execute_result"
    }
   ],
   "source": [
    "history_df = pd.DataFrame(history.history)\n",
    "history_df.head()\n"
   ]
  },
  {
   "cell_type": "code",
   "execution_count": 22,
   "id": "915b8917",
   "metadata": {},
   "outputs": [
    {
     "data": {
      "image/png": "[encoded data removed]",
      "text/plain": [
       "<Figure size 640x480 with 1 Axes>"
      ]
     },
     "metadata": {},
     "output_type": "display_data"
    },
    {
     "data": {
      "image/png": "[encoded data removed]",
      "text/plain": [
       "<Figure size 640x480 with 1 Axes>"
      ]
     },
     "metadata": {},
     "output_type": "display_data"
    }
   ],
   "source": [
    "history_df.loc[:, ['loss', 'val_loss']].plot()\n",
    "history_df.loc[:, ['mape', 'val_mape']].plot()\n",
    "plt.show()\n"
   ]
  },
  {
   "cell_type": "code",
   "execution_count": null,
   "id": "74eb4d29",
   "metadata": {},
   "outputs": [],
   "source": []
  }
 ],
 "metadata": {
  "kernelspec": {
   "display_name": "Python 3 (ipykernel)",
   "language": "python",
   "name": "python3"
  },
  "language_info": {
   "codemirror_mode": {
    "name": "ipython",
    "version": 3
   },
   "file_extension": ".py",
   "mimetype": "text/x-python",
   "name": "python",
   "nbconvert_exporter": "python",
   "pygments_lexer": "ipython3",
   "version": "3.10.9"
  }
 },
 "nbformat": 4,
 "nbformat_minor": 5
}
