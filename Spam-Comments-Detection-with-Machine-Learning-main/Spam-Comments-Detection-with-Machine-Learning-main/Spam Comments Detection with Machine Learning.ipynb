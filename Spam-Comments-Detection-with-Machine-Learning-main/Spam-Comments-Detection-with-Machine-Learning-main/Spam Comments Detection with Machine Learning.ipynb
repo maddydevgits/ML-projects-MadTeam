{
 "cells": [
  {
   "cell_type": "code",
   "execution_count": 6,
   "id": "af5c7a43",
   "metadata": {},
   "outputs": [
    {
     "name": "stdout",
     "output_type": "stream",
     "text": [
      "                                COMMENT_ID        AUTHOR                 DATE  \\\n",
      "86   z135fnx4ntvdx1rzn04cih1ihmqtsrbzcno0k   Backup Plus  2014-11-03T17:39:07   \n",
      "330    z12oex5p1miewvugp04cgjfqiq3xsxrolhk  Caius Ballad  2014-11-13T00:58:20   \n",
      "300  z13fdvwhykzhuldpn04cfdtwkyqterlavnk0k      iKap Taz  2014-11-08T13:34:27   \n",
      "20     z12axnji5w2axxht522thb3bktvqjdlbp04  zhichao wang  2013-11-29T02:13:56   \n",
      "242    z13vc32olxm2znkjz04cd35gnozjebqhlig  TheLegitBroz  2014-11-08T00:26:35   \n",
      "\n",
      "                                               CONTENT  CLASS  \n",
      "86                  Suscribe My Channel Please XD lol﻿      1  \n",
      "330  imagine if this guy put adsense on with all th...      0  \n",
      "300  Follow 4 Follow                           @ Va...      1  \n",
      "20   i think about 100 millions of the views come f...      0  \n",
      "242  The Funny Thing Is That this song was made in ...      0  \n"
     ]
    }
   ],
   "source": [
    "import pandas as pd\n",
    "import numpy as np\n",
    "from sklearn.feature_extraction.text import CountVectorizer\n",
    "from sklearn.model_selection import train_test_split\n",
    "from sklearn.naive_bayes import BernoulliNB\n",
    "data = pd.read_csv('C:\\\\Users\\\\swathi Naga\\\\OneDrive\\\\Desktop\\\\Youtube01-Psy.csv')\n",
    "\n",
    "\n",
    "print(data.sample(5))\n"
   ]
  },
  {
   "cell_type": "code",
   "execution_count": 7,
   "id": "3fff0dc6",
   "metadata": {},
   "outputs": [
    {
     "name": "stdout",
     "output_type": "stream",
     "text": [
      "                                               CONTENT  CLASS\n",
      "276  Wow this video is the most viewed youtube vide...      0\n",
      "25   marketglory . com/strategygame/andrijamatf ear...      1\n",
      "342  Why does a song like this have more views than...      0\n",
      "38    Hey everyone!! I have just started my first Y...      1\n",
      "88                         http://binbox.io/1FIRo#123﻿      1\n"
     ]
    }
   ],
   "source": [
    "data = data[[\"CONTENT\", \"CLASS\"]]\n",
    "print(data.sample(5))"
   ]
  },
  {
   "cell_type": "code",
   "execution_count": 8,
   "id": "7e4da7ee",
   "metadata": {},
   "outputs": [
    {
     "name": "stdout",
     "output_type": "stream",
     "text": [
      "                                               CONTENT         CLASS\n",
      "194  WAT DA FUCK THIS THE MOST VIEWED VIDEO IN YOUT...      Not Spam\n",
      "122                        Suscribe my channel please﻿  Spam Comment\n",
      "243           why I dont see any comments but mine?:/﻿      Not Spam\n",
      "223                  Can anyone sub to my channel? :D﻿  Spam Comment\n",
      "129  Like getting Gift cards..but hate spending the...  Spam Comment\n"
     ]
    }
   ],
   "source": [
    "data[\"CLASS\"] = data[\"CLASS\"].map({0: \"Not Spam\",\n",
    "                                   1: \"Spam Comment\"})\n",
    "print(data.sample(5))"
   ]
  },
  {
   "cell_type": "code",
   "execution_count": 9,
   "id": "bfeebd9a",
   "metadata": {},
   "outputs": [
    {
     "name": "stdout",
     "output_type": "stream",
     "text": [
      "0.9857142857142858\n"
     ]
    }
   ],
   "source": [
    "x = np.array(data[\"CONTENT\"])\n",
    "y = np.array(data[\"CLASS\"])\n",
    "\n",
    "cv = CountVectorizer()\n",
    "x = cv.fit_transform(x)\n",
    "xtrain, xtest, ytrain, ytest = train_test_split(x, y, \n",
    "                                                test_size=0.2, \n",
    "                                                random_state=42)\n",
    "\n",
    "model = BernoulliNB()\n",
    "model.fit(xtrain, ytrain)\n",
    "print(model.score(xtest, ytest))"
   ]
  },
  {
   "cell_type": "code",
   "execution_count": 10,
   "id": "dc1127ff",
   "metadata": {},
   "outputs": [
    {
     "name": "stdout",
     "output_type": "stream",
     "text": [
      "['Spam Comment']\n"
     ]
    }
   ],
   "source": [
    "sample = \"Check this out: https://thecleverprogrammer.com/\" \n",
    "data = cv.transform([sample]).toarray()\n",
    "print(model.predict(data))"
   ]
  },
  {
   "cell_type": "code",
   "execution_count": 11,
   "id": "6983e2bd",
   "metadata": {},
   "outputs": [
    {
     "name": "stdout",
     "output_type": "stream",
     "text": [
      "['Not Spam']\n"
     ]
    }
   ],
   "source": [
    "sample = \"Lack of information!\" \n",
    "data = cv.transform([sample]).toarray()\n",
    "print(model.predict(data)) "
   ]
  },
  {
   "cell_type": "code",
   "execution_count": null,
   "id": "e1a1549c",
   "metadata": {},
   "outputs": [],
   "source": []
  }
 ],
 "metadata": {
  "kernelspec": {
   "display_name": "Python 3 (ipykernel)",
   "language": "python",
   "name": "python3"
  },
  "language_info": {
   "codemirror_mode": {
    "name": "ipython",
    "version": 3
   },
   "file_extension": ".py",
   "mimetype": "text/x-python",
   "name": "python",
   "nbconvert_exporter": "python",
   "pygments_lexer": "ipython3",
   "version": "3.10.9"
  }
 },
 "nbformat": 4,
 "nbformat_minor": 5
}
